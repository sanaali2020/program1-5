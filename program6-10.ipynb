{
 "cells": [
  {
   "cell_type": "code",
   "execution_count": 18,
   "id": "ce14ebd9-a597-4bbb-8cb4-82a1aad5b9ee",
   "metadata": {},
   "outputs": [
    {
     "name": "stdout",
     "output_type": "stream",
     "text": [
      "1 value= 33.8 f\n",
      "90 value= 194.0 f\n",
      "1000 value= 1832.0 f\n",
      "250 value= 482.0 f\n"
     ]
    }
   ],
   "source": [
    "celsius= [1,90,1000,250]\n",
    "for value in celsius:\n",
    "        f= (value * 9/5 ) + 32\n",
    "        print(value, 'value=',f,'f')"
   ]
  },
  {
   "cell_type": "code",
   "execution_count": 3,
   "id": "d14f1785-32c2-4e0a-9e13-0c9b4849d154",
   "metadata": {},
   "outputs": [
    {
     "name": "stdout",
     "output_type": "stream",
     "text": [
      "5\n",
      "10\n",
      "15\n",
      "20\n",
      "25\n",
      "30\n",
      "35\n",
      "40\n",
      "45\n",
      "50\n"
     ]
    }
   ],
   "source": [
    "for value in range(1,11,):\n",
    "        multiple=value*5\n",
    "        print(multiple)"
   ]
  },
  {
   "cell_type": "code",
   "execution_count": 17,
   "id": "98ee7ed2-1df1-4a2f-b18f-bc41440907a5",
   "metadata": {},
   "outputs": [
    {
     "name": "stdout",
     "output_type": "stream",
     "text": [
      "sum is  261\n"
     ]
    }
   ],
   "source": [
    "numbers=[2,60,99,100]\n",
    "total=0\n",
    "for number in numbers:\n",
    "        total +=number\n",
    "  \n",
    "print('sum is ', total)"
   ]
  },
  {
   "cell_type": "code",
   "execution_count": 1,
   "id": "f7293a28-95be-4614-8579-f1bac15f0164",
   "metadata": {},
   "outputs": [
    {
     "name": "stdout",
     "output_type": "stream",
     "text": [
      "h\n",
      "e\n",
      "l\n",
      "l\n",
      "o\n",
      " \n",
      "w\n",
      "o\n",
      "r\n",
      "l\n",
      "d\n"
     ]
    }
   ],
   "source": [
    "words= 'hello world'\n",
    "for word in words:\n",
    "    print(word)"
   ]
  },
  {
   "cell_type": "code",
   "execution_count": 5,
   "id": "ddf27d2d-ae11-47ef-b4eb-7cd2ef7f160e",
   "metadata": {},
   "outputs": [
    {
     "name": "stdout",
     "output_type": "stream",
     "text": [
      "banana\n",
      "accounting\n",
      "capybara\n"
     ]
    }
   ],
   "source": [
    "words=['banana','cat','accounting','capybara']\n",
    "for word in words:\n",
    "        if len(word)>5:\n",
    "                print(word)"
   ]
  }
 ],
 "metadata": {
  "kernelspec": {
   "display_name": "Python 3 (ipykernel)",
   "language": "python",
   "name": "python3"
  },
  "language_info": {
   "codemirror_mode": {
    "name": "ipython",
    "version": 3
   },
   "file_extension": ".py",
   "mimetype": "text/x-python",
   "name": "python",
   "nbconvert_exporter": "python",
   "pygments_lexer": "ipython3",
   "version": "3.13.5"
  }
 },
 "nbformat": 4,
 "nbformat_minor": 5
}
