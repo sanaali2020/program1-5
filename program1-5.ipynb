{
 "cells": [
  {
   "cell_type": "code",
   "execution_count": 2,
   "id": "37a1a9d6-5e18-431c-9b7f-41a7dab32036",
   "metadata": {},
   "outputs": [
    {
     "name": "stdout",
     "output_type": "stream",
     "text": [
      "2\n",
      "4\n",
      "6\n",
      "8\n",
      "10\n",
      "12\n",
      "14\n",
      "16\n",
      "18\n"
     ]
    }
   ],
   "source": [
    "for  value in range(2,20,2):\n",
    "    print(value)"
   ]
  },
  {
   "cell_type": "code",
   "execution_count": 3,
   "id": "e1b19b18-617f-4858-8fa3-474503269ab1",
   "metadata": {},
   "outputs": [
    {
     "name": "stdout",
     "output_type": "stream",
     "text": [
      "SARA\n",
      "MAHA\n",
      "DANIYAL\n",
      "MUSTAFA\n"
     ]
    }
   ],
   "source": [
    "names=['sara','maha','daniyal','mustafa']\n",
    "for name in names:\n",
    "        print(name.upper())"
   ]
  },
  {
   "cell_type": "code",
   "execution_count": 1,
   "id": "bd5200e5-ff4f-4b0e-98fc-a9b413d6ddf1",
   "metadata": {},
   "outputs": [
    {
     "name": "stdout",
     "output_type": "stream",
     "text": [
      "SARA\n",
      "MAHA\n",
      "DANIYAL\n",
      "MUSTAFA\n"
     ]
    }
   ],
   "source": [
    "names=['sara','maha','daniyal','mustafa']\n",
    "for name in names:\n",
    "        print(name.upper())"
   ]
  },
  {
   "cell_type": "code",
   "execution_count": 5,
   "id": "d1942dd8-3a83-4149-b67c-cc814774a673",
   "metadata": {},
   "outputs": [
    {
     "name": "stdout",
     "output_type": "stream",
     "text": [
      "3\n",
      "6\n",
      "9\n",
      "15\n"
     ]
    }
   ],
   "source": [
    "numbers=[2,3,6,7,8,9,15,20]\n",
    "for num in numbers:\n",
    "        if num % 3 ==0:\n",
    "                print(num)\n",
    "    "
   ]
  },
  {
   "cell_type": "code",
   "execution_count": 6,
   "id": "65acc826-e985-4e8e-9d3c-380ba1a82bdc",
   "metadata": {},
   "outputs": [
    {
     "name": "stdout",
     "output_type": "stream",
     "text": [
      "1\n",
      "4\n",
      "9\n",
      "16\n",
      "25\n",
      "36\n",
      "49\n",
      "64\n",
      "81\n",
      "100\n"
     ]
    }
   ],
   "source": [
    "for square in range(1,11):\n",
    "        squares= square**2\n",
    "        print(squares)"
   ]
  },
  {
   "cell_type": "code",
   "execution_count": null,
   "id": "34c944b2-cbc6-4421-a96c-f7c2f65ab1b0",
   "metadata": {},
   "outputs": [],
   "source": []
  }
 ],
 "metadata": {
  "kernelspec": {
   "display_name": "Python 3 (ipykernel)",
   "language": "python",
   "name": "python3"
  },
  "language_info": {
   "codemirror_mode": {
    "name": "ipython",
    "version": 3
   },
   "file_extension": ".py",
   "mimetype": "text/x-python",
   "name": "python",
   "nbconvert_exporter": "python",
   "pygments_lexer": "ipython3",
   "version": "3.13.5"
  }
 },
 "nbformat": 4,
 "nbformat_minor": 5
}
